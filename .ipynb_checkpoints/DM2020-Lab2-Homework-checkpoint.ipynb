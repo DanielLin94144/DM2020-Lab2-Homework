{
 "cells": [
  {
   "cell_type": "markdown",
   "metadata": {},
   "source": [
    "### Student Information\n",
    "Name: 林冠廷\n",
    "\n",
    "Student ID: 106012017\n",
    "\n",
    "GitHub ID: DanielLin94144\n",
    "\n",
    "Kaggle name: Daniel Lin\n",
    "\n",
    "Kaggle private scoreboard snapshot:\n",
    "\n",
    "[Snapshot](img/pic0.png)"
   ]
  },
  {
   "cell_type": "markdown",
   "metadata": {},
   "source": [
    "---"
   ]
  },
  {
   "cell_type": "markdown",
   "metadata": {},
   "source": [
    "### Instructions"
   ]
  },
  {
   "cell_type": "markdown",
   "metadata": {},
   "source": [
    "1. First: __This part is worth 30% of your grade.__ Do the **take home** exercises in the [DM2020-Lab2-Master Repo](https://github.com/fhcalderon87/DM2020-Lab2-Master). You may need to copy some cells from the Lab notebook to this notebook. \n",
    "\n",
    "\n",
    "2. Second: __This part is worth 30% of your grade.__ Participate in the in-class [Kaggle Competition](https://www.kaggle.com/c/dm2020-hw2-nthu/) regarding Emotion Recognition on Twitter. The scoring will be given according to your place in the Private Leaderboard ranking: \n",
    "    - **Bottom 40%**: Get 20% of the score (ie. 20% of 30% )\n",
    "\n",
    "    - **Top 41% - 100%**: Get (101-x)% of the score, where x is your ranking in the leaderboard (ie. (101-x)% of 30% )   \n",
    "    Submit your last submission __BEFORE the deadline (Dec. 5th 11:59 pm, Saturday)__. Make sure to take a screenshot of your position at the end of the competition and store it as '''pic0.png''' under the **img** folder of this repository and rerun the cell **Student Information**.\n",
    "    \n",
    "\n",
    "3. Third: __This part is worth 30% of your grade.__ A report of your work developping the model for the competition (You can use code and comment it). This report should include what your preprocessing steps, the feature engineering steps and an explanation of your model. You can also mention different things you tried and insights you gained. \n",
    "\n",
    "\n",
    "4. Fourth: __This part is worth 10% of your grade.__ It's hard for us to follow if your code is messy :'(, so please **tidy up your notebook** and **add minimal comments where needed**.\n",
    "\n",
    "\n",
    "You can submit your homework following these guidelines: [Git Intro & How to hand your homework](https://github.com/fhcalderon87/DM2020-Lab1-Master/blob/master/Git%20Intro%20%26%20How%20to%20hand%20your%20homework.ipynb), but make sure to fork the [DM2020-Lab2-Homework](https://github.com/fhcalderon87/DM2020-Lab2-Homework) repository this time! Also please __DON´T UPLOAD HUGE DOCUMENTS__, please use Git ignore for that.\n",
    "\n",
    "Make sure to commit and save your changes to your repository __BEFORE the deadline (Dec. 8th 11:59 pm, Tuesday)__. "
   ]
  },
  {
   "cell_type": "markdown",
   "metadata": {},
   "source": [
    "### 1. Take home exercises"
   ]
  },
  {
   "cell_type": "code",
   "execution_count": 3,
   "metadata": {},
   "outputs": [],
   "source": [
    "import pandas as pd\n",
    "\n",
    "### training data\n",
    "anger_train = pd.read_csv(\"../DM2020-Lab2-Master/data/semeval/train/anger-ratings-0to1.train.txt\",\n",
    "                         sep=\"\\t\", header=None,names=[\"id\", \"text\", \"emotion\", \"intensity\"])\n",
    "sadness_train = pd.read_csv(\"../DM2020-Lab2-Master/data/semeval/train/sadness-ratings-0to1.train.txt\",\n",
    "                         sep=\"\\t\", header=None, names=[\"id\", \"text\", \"emotion\", \"intensity\"])\n",
    "fear_train = pd.read_csv(\"../DM2020-Lab2-Master/data/semeval/train/fear-ratings-0to1.train.txt\",\n",
    "                         sep=\"\\t\", header=None, names=[\"id\", \"text\", \"emotion\", \"intensity\"])\n",
    "joy_train = pd.read_csv(\"../DM2020-Lab2-Master/data/semeval/train/joy-ratings-0to1.train.txt\",\n",
    "                         sep=\"\\t\", header=None, names=[\"id\", \"text\", \"emotion\", \"intensity\"])"
   ]
  },
  {
   "cell_type": "code",
   "execution_count": 5,
   "metadata": {},
   "outputs": [],
   "source": [
    "# combine 4 sub-dataset\n",
    "train_df = pd.concat([anger_train, fear_train, joy_train, sadness_train], ignore_index=True)"
   ]
  },
  {
   "cell_type": "code",
   "execution_count": 6,
   "metadata": {},
   "outputs": [
    {
     "data": {
      "text/html": [
       "<div>\n",
       "<style scoped>\n",
       "    .dataframe tbody tr th:only-of-type {\n",
       "        vertical-align: middle;\n",
       "    }\n",
       "\n",
       "    .dataframe tbody tr th {\n",
       "        vertical-align: top;\n",
       "    }\n",
       "\n",
       "    .dataframe thead th {\n",
       "        text-align: right;\n",
       "    }\n",
       "</style>\n",
       "<table border=\"1\" class=\"dataframe\">\n",
       "  <thead>\n",
       "    <tr style=\"text-align: right;\">\n",
       "      <th></th>\n",
       "      <th>id</th>\n",
       "      <th>text</th>\n",
       "      <th>emotion</th>\n",
       "      <th>intensity</th>\n",
       "    </tr>\n",
       "  </thead>\n",
       "  <tbody>\n",
       "    <tr>\n",
       "      <th>0</th>\n",
       "      <td>10000</td>\n",
       "      <td>How the fu*k! Who the heck! moved my fridge!.....</td>\n",
       "      <td>anger</td>\n",
       "      <td>0.938</td>\n",
       "    </tr>\n",
       "    <tr>\n",
       "      <th>1</th>\n",
       "      <td>10001</td>\n",
       "      <td>So my Indian Uber driver just called someone t...</td>\n",
       "      <td>anger</td>\n",
       "      <td>0.896</td>\n",
       "    </tr>\n",
       "    <tr>\n",
       "      <th>2</th>\n",
       "      <td>10002</td>\n",
       "      <td>@DPD_UK I asked for my parcel to be delivered ...</td>\n",
       "      <td>anger</td>\n",
       "      <td>0.896</td>\n",
       "    </tr>\n",
       "    <tr>\n",
       "      <th>3</th>\n",
       "      <td>10003</td>\n",
       "      <td>so ef whichever butt wipe pulled the fire alar...</td>\n",
       "      <td>anger</td>\n",
       "      <td>0.896</td>\n",
       "    </tr>\n",
       "    <tr>\n",
       "      <th>4</th>\n",
       "      <td>10004</td>\n",
       "      <td>Don't join @BTCare they put the phone down on ...</td>\n",
       "      <td>anger</td>\n",
       "      <td>0.896</td>\n",
       "    </tr>\n",
       "  </tbody>\n",
       "</table>\n",
       "</div>"
      ],
      "text/plain": [
       "      id                                               text emotion  intensity\n",
       "0  10000  How the fu*k! Who the heck! moved my fridge!.....   anger      0.938\n",
       "1  10001  So my Indian Uber driver just called someone t...   anger      0.896\n",
       "2  10002  @DPD_UK I asked for my parcel to be delivered ...   anger      0.896\n",
       "3  10003  so ef whichever butt wipe pulled the fire alar...   anger      0.896\n",
       "4  10004  Don't join @BTCare they put the phone down on ...   anger      0.896"
      ]
     },
     "execution_count": 6,
     "metadata": {},
     "output_type": "execute_result"
    }
   ],
   "source": [
    "### testing data\n",
    "anger_test = pd.read_csv(\"../DM2020-Lab2-Master/data/semeval/dev/anger-ratings-0to1.dev.gold.txt\",\n",
    "                         sep=\"\\t\", header=None, names=[\"id\", \"text\", \"emotion\", \"intensity\"])\n",
    "sadness_test = pd.read_csv(\"../DM2020-Lab2-Master/data/semeval/dev/sadness-ratings-0to1.dev.gold.txt\",\n",
    "                         sep=\"\\t\", header=None, names=[\"id\", \"text\", \"emotion\", \"intensity\"])\n",
    "fear_test = pd.read_csv(\"../DM2020-Lab2-Master/data/semeval/dev/fear-ratings-0to1.dev.gold.txt\",\n",
    "                         sep=\"\\t\", header=None, names=[\"id\", \"text\", \"emotion\", \"intensity\"])\n",
    "joy_test = pd.read_csv(\"../DM2020-Lab2-Master/data/semeval/dev/joy-ratings-0to1.dev.gold.txt\",\n",
    "                         sep=\"\\t\", header=None, names=[\"id\", \"text\", \"emotion\", \"intensity\"])\n",
    "\n",
    "# combine 4 sub-dataset\n",
    "test_df = pd.concat([anger_test, fear_test, joy_test, sadness_test], ignore_index=True)\n",
    "train_df.head()"
   ]
  },
  {
   "cell_type": "code",
   "execution_count": 7,
   "metadata": {},
   "outputs": [],
   "source": [
    "# shuffle dataset\n",
    "train_df = train_df.sample(frac=1)\n",
    "test_df = test_df.sample(frac=1)"
   ]
  },
  {
   "cell_type": "code",
   "execution_count": 8,
   "metadata": {},
   "outputs": [
    {
     "name": "stdout",
     "output_type": "stream",
     "text": [
      "Shape of Training df:  (3613, 4)\n",
      "Shape of Testing df:  (347, 4)\n"
     ]
    }
   ],
   "source": [
    "print(\"Shape of Training df: \", train_df.shape)\n",
    "print(\"Shape of Testing df: \", test_df.shape)"
   ]
  },
  {
   "cell_type": "markdown",
   "metadata": {},
   "source": [
    "---\n",
    "### ** >>> Exercise 1 (Take home): **  \n",
    "Plot word frequency for Top 30 words in both train and test dataset. (Hint: refer to DM lab 1)"
   ]
  },
  {
   "cell_type": "code",
   "execution_count": 18,
   "metadata": {},
   "outputs": [],
   "source": [
    "from sklearn.feature_extraction.text import CountVectorizer"
   ]
  },
  {
   "cell_type": "code",
   "execution_count": 32,
   "metadata": {},
   "outputs": [],
   "source": [
    "train_count_vect = CountVectorizer(stop_words = 'english')\n",
    "test_count_vect = CountVectorizer(stop_words = 'english')\n",
    "X_train_counts = train_count_vect.fit_transform(train_df.text)\n",
    "X_test_counts = test_count_vect.fit_transform(test_df.text)"
   ]
  },
  {
   "cell_type": "code",
   "execution_count": 33,
   "metadata": {},
   "outputs": [
    {
     "name": "stdout",
     "output_type": "stream",
     "text": [
      "train shape: (3613, 9850)\n",
      "test shape: (347, 1773)\n"
     ]
    }
   ],
   "source": [
    "print('train shape:', X_train_counts.shape)\n",
    "print('test shape:', X_test_counts.shape)"
   ]
  },
  {
   "cell_type": "code",
   "execution_count": 35,
   "metadata": {},
   "outputs": [
    {
     "data": {
      "text/plain": [
       "['00', '000', '00pm', '00tiffanyr', '01', '02', '03', '0303', '034', '04']"
      ]
     },
     "execution_count": 35,
     "metadata": {},
     "output_type": "execute_result"
    }
   ],
   "source": [
    "train_count_vect.get_feature_names()[:10]"
   ]
  },
  {
   "cell_type": "code",
   "execution_count": 43,
   "metadata": {},
   "outputs": [],
   "source": [
    "X_train_count_pd = pd.DataFrame(columns = train_count_vect.get_feature_names(), data = X_train_counts.toarray())\n",
    "X_test_count_pd = pd.DataFrame(columns = test_count_vect.get_feature_names(), data = X_test_counts.toarray())"
   ]
  },
  {
   "cell_type": "code",
   "execution_count": 37,
   "metadata": {
    "scrolled": true
   },
   "outputs": [
    {
     "data": {
      "text/html": [
       "<div>\n",
       "<style scoped>\n",
       "    .dataframe tbody tr th:only-of-type {\n",
       "        vertical-align: middle;\n",
       "    }\n",
       "\n",
       "    .dataframe tbody tr th {\n",
       "        vertical-align: top;\n",
       "    }\n",
       "\n",
       "    .dataframe thead th {\n",
       "        text-align: right;\n",
       "    }\n",
       "</style>\n",
       "<table border=\"1\" class=\"dataframe\">\n",
       "  <thead>\n",
       "    <tr style=\"text-align: right;\">\n",
       "      <th></th>\n",
       "      <th>00</th>\n",
       "      <th>000</th>\n",
       "      <th>00pm</th>\n",
       "      <th>00tiffanyr</th>\n",
       "      <th>01</th>\n",
       "      <th>02</th>\n",
       "      <th>03</th>\n",
       "      <th>0303</th>\n",
       "      <th>034</th>\n",
       "      <th>04</th>\n",
       "      <th>...</th>\n",
       "      <th>zoolander</th>\n",
       "      <th>zumba</th>\n",
       "      <th>óg</th>\n",
       "      <th>деньги</th>\n",
       "      <th>الخفجي</th>\n",
       "      <th>اليوم_الوطني</th>\n",
       "      <th>ध_य</th>\n",
       "      <th>य_ब</th>\n",
       "      <th>सत</th>\n",
       "      <th>アニメ</th>\n",
       "    </tr>\n",
       "  </thead>\n",
       "  <tbody>\n",
       "    <tr>\n",
       "      <th>0</th>\n",
       "      <td>0</td>\n",
       "      <td>0</td>\n",
       "      <td>0</td>\n",
       "      <td>0</td>\n",
       "      <td>0</td>\n",
       "      <td>0</td>\n",
       "      <td>0</td>\n",
       "      <td>0</td>\n",
       "      <td>0</td>\n",
       "      <td>0</td>\n",
       "      <td>...</td>\n",
       "      <td>0</td>\n",
       "      <td>0</td>\n",
       "      <td>0</td>\n",
       "      <td>0</td>\n",
       "      <td>0</td>\n",
       "      <td>0</td>\n",
       "      <td>0</td>\n",
       "      <td>0</td>\n",
       "      <td>0</td>\n",
       "      <td>0</td>\n",
       "    </tr>\n",
       "    <tr>\n",
       "      <th>1</th>\n",
       "      <td>0</td>\n",
       "      <td>0</td>\n",
       "      <td>0</td>\n",
       "      <td>0</td>\n",
       "      <td>0</td>\n",
       "      <td>0</td>\n",
       "      <td>0</td>\n",
       "      <td>0</td>\n",
       "      <td>0</td>\n",
       "      <td>0</td>\n",
       "      <td>...</td>\n",
       "      <td>0</td>\n",
       "      <td>0</td>\n",
       "      <td>0</td>\n",
       "      <td>0</td>\n",
       "      <td>0</td>\n",
       "      <td>0</td>\n",
       "      <td>0</td>\n",
       "      <td>0</td>\n",
       "      <td>0</td>\n",
       "      <td>0</td>\n",
       "    </tr>\n",
       "    <tr>\n",
       "      <th>2</th>\n",
       "      <td>0</td>\n",
       "      <td>0</td>\n",
       "      <td>0</td>\n",
       "      <td>0</td>\n",
       "      <td>0</td>\n",
       "      <td>0</td>\n",
       "      <td>0</td>\n",
       "      <td>0</td>\n",
       "      <td>0</td>\n",
       "      <td>0</td>\n",
       "      <td>...</td>\n",
       "      <td>0</td>\n",
       "      <td>0</td>\n",
       "      <td>0</td>\n",
       "      <td>0</td>\n",
       "      <td>0</td>\n",
       "      <td>0</td>\n",
       "      <td>0</td>\n",
       "      <td>0</td>\n",
       "      <td>0</td>\n",
       "      <td>0</td>\n",
       "    </tr>\n",
       "    <tr>\n",
       "      <th>3</th>\n",
       "      <td>0</td>\n",
       "      <td>0</td>\n",
       "      <td>0</td>\n",
       "      <td>0</td>\n",
       "      <td>0</td>\n",
       "      <td>0</td>\n",
       "      <td>0</td>\n",
       "      <td>0</td>\n",
       "      <td>0</td>\n",
       "      <td>0</td>\n",
       "      <td>...</td>\n",
       "      <td>0</td>\n",
       "      <td>0</td>\n",
       "      <td>0</td>\n",
       "      <td>0</td>\n",
       "      <td>0</td>\n",
       "      <td>0</td>\n",
       "      <td>0</td>\n",
       "      <td>0</td>\n",
       "      <td>0</td>\n",
       "      <td>0</td>\n",
       "    </tr>\n",
       "    <tr>\n",
       "      <th>4</th>\n",
       "      <td>0</td>\n",
       "      <td>0</td>\n",
       "      <td>0</td>\n",
       "      <td>0</td>\n",
       "      <td>0</td>\n",
       "      <td>0</td>\n",
       "      <td>0</td>\n",
       "      <td>0</td>\n",
       "      <td>0</td>\n",
       "      <td>0</td>\n",
       "      <td>...</td>\n",
       "      <td>0</td>\n",
       "      <td>0</td>\n",
       "      <td>0</td>\n",
       "      <td>0</td>\n",
       "      <td>0</td>\n",
       "      <td>0</td>\n",
       "      <td>0</td>\n",
       "      <td>0</td>\n",
       "      <td>0</td>\n",
       "      <td>0</td>\n",
       "    </tr>\n",
       "  </tbody>\n",
       "</table>\n",
       "<p>5 rows × 9850 columns</p>\n",
       "</div>"
      ],
      "text/plain": [
       "   00  000  00pm  00tiffanyr  01  02  03  0303  034  04  ...  zoolander  \\\n",
       "0   0    0     0           0   0   0   0     0    0   0  ...          0   \n",
       "1   0    0     0           0   0   0   0     0    0   0  ...          0   \n",
       "2   0    0     0           0   0   0   0     0    0   0  ...          0   \n",
       "3   0    0     0           0   0   0   0     0    0   0  ...          0   \n",
       "4   0    0     0           0   0   0   0     0    0   0  ...          0   \n",
       "\n",
       "   zumba  óg  деньги  الخفجي  اليوم_الوطني  ध_य  य_ब  सत  アニメ  \n",
       "0      0   0       0       0             0    0    0   0    0  \n",
       "1      0   0       0       0             0    0    0   0    0  \n",
       "2      0   0       0       0             0    0    0   0    0  \n",
       "3      0   0       0       0             0    0    0   0    0  \n",
       "4      0   0       0       0             0    0    0   0    0  \n",
       "\n",
       "[5 rows x 9850 columns]"
      ]
     },
     "execution_count": 37,
     "metadata": {},
     "output_type": "execute_result"
    }
   ],
   "source": [
    "X_train_count_pd.head()"
   ]
  },
  {
   "cell_type": "markdown",
   "metadata": {},
   "source": [
    "* Do summation for all record, so we can get the term frequency of all record in training and testing set.\n",
    "* Show the top-30 frequent term below: "
   ]
  },
  {
   "cell_type": "code",
   "execution_count": 41,
   "metadata": {},
   "outputs": [
    {
     "data": {
      "text/plain": [
       "just       301\n",
       "like       243\n",
       "don        207\n",
       "amp        182\n",
       "people     120\n",
       "time       118\n",
       "day        114\n",
       "know       112\n",
       "good       111\n",
       "love       111\n",
       "watch       98\n",
       "think       98\n",
       "make        92\n",
       "ve          91\n",
       "today       90\n",
       "happy       86\n",
       "want        83\n",
       "got         81\n",
       "lost        80\n",
       "really      78\n",
       "live        78\n",
       "life        78\n",
       "need        76\n",
       "ll          76\n",
       "feel        75\n",
       "let         75\n",
       "way         75\n",
       "amazing     74\n",
       "going       69\n",
       "start       66\n",
       "dtype: int64"
      ]
     },
     "execution_count": 41,
     "metadata": {},
     "output_type": "execute_result"
    }
   ],
   "source": [
    "X_train_count_pd.sum().sort_values(ascending=False)[:30]"
   ]
  },
  {
   "cell_type": "code",
   "execution_count": 44,
   "metadata": {
    "scrolled": false
   },
   "outputs": [
    {
     "data": {
      "text/plain": [
       "just        29\n",
       "like        24\n",
       "don         22\n",
       "people      15\n",
       "day         14\n",
       "love        13\n",
       "make        12\n",
       "want        12\n",
       "amp         11\n",
       "think       11\n",
       "man         10\n",
       "awful       10\n",
       "really       9\n",
       "anger        9\n",
       "life         9\n",
       "new          9\n",
       "know         9\n",
       "things       8\n",
       "ll           8\n",
       "didn         8\n",
       "time         8\n",
       "feel         8\n",
       "happy        8\n",
       "little       7\n",
       "issues       7\n",
       "good         7\n",
       "sad          7\n",
       "look         7\n",
       "optimism     7\n",
       "today        7\n",
       "dtype: int64"
      ]
     },
     "execution_count": 44,
     "metadata": {},
     "output_type": "execute_result"
    }
   ],
   "source": [
    "X_test_count_pd.sum().sort_values(ascending=False)[:30]"
   ]
  },
  {
   "cell_type": "markdown",
   "metadata": {},
   "source": [
    "---\n",
    "### ** >>> Exercise 2 (Take home): **  \n",
    "Generate an embedding using the TF-IDF vectorizer instead of th BOW one with 1000 features and show the feature names for features [100:110]."
   ]
  },
  {
   "cell_type": "code",
   "execution_count": 50,
   "metadata": {},
   "outputs": [
    {
     "name": "stderr",
     "output_type": "stream",
     "text": [
      "C:\\Users\\Lin Guan Ting\\Anaconda3\\envs\\DLenv\\lib\\site-packages\\sklearn\\feature_extraction\\text.py:484: UserWarning: The parameter 'token_pattern' will not be used since 'tokenizer' is not None'\n",
      "  warnings.warn(\"The parameter 'token_pattern' will not be used\"\n"
     ]
    }
   ],
   "source": [
    "import nltk\n",
    "from sklearn.feature_extraction.text import TfidfVectorizer\n",
    "tfidf_vect = TfidfVectorizer(max_features=1000, tokenizer=nltk.word_tokenize)\n",
    "tfidf_vect.fit(train_df.text)\n",
    "train_tfidf = tfidf_vect.transform(train_df.text)\n",
    "test_tfidf = tfidf_vect.transform(test_df.text)"
   ]
  },
  {
   "cell_type": "code",
   "execution_count": 52,
   "metadata": {},
   "outputs": [
    {
     "name": "stdout",
     "output_type": "stream",
     "text": [
      "train tfidf shape: (3613, 1000)\n",
      "test tfidf shape: (347, 1000)\n"
     ]
    }
   ],
   "source": [
    "print('train tfidf shape:', train_tfidf.shape)\n",
    "print('test tfidf shape:', test_tfidf.shape)"
   ]
  },
  {
   "cell_type": "code",
   "execution_count": 53,
   "metadata": {},
   "outputs": [
    {
     "data": {
      "text/plain": [
       "['awareness',\n",
       " 'away',\n",
       " 'awe',\n",
       " 'awesome',\n",
       " 'awful',\n",
       " 'b',\n",
       " 'baby',\n",
       " 'back',\n",
       " 'bad',\n",
       " 'ball']"
      ]
     },
     "execution_count": 53,
     "metadata": {},
     "output_type": "execute_result"
    }
   ],
   "source": [
    "tfidf_vect.get_feature_names()[100:110]"
   ]
  },
  {
   "cell_type": "markdown",
   "metadata": {},
   "source": [
    "---\n",
    "### ** >>> Exercise 3 (Take home): **  \n",
    "![](confusion_matrix.png)\n",
    "Can you interpret the results above? What do they mean?"
   ]
  },
  {
   "cell_type": "markdown",
   "metadata": {},
   "source": [
    "1. First I have to point out that the axis in above plot is wrong, in [sklearn document](https://scikit-learn.org/stable/modules/generated/sklearn.metrics.confusion_matrix.html) they use true label on row-axis, and predicted label in col-axis. Correct confusion matrix plot:\n",
    "![](correct_cm.png)\n",
    "2. Because \"fear\" contains most porprotion, model tends to predict \"fear\" and lots of examples that are predicted as \"fear\" are not \"fear\". As a result, model can't classify \"fear\" and others very well, e.g., for \"fear\" and \"anger\", model predicted 15 examples are \"angry\" actually are \"fear\"; on the other hand,  model predicted 12 examples are \"fear\" actually are \"anger\"."
   ]
  },
  {
   "cell_type": "markdown",
   "metadata": {},
   "source": [
    "---\n",
    "### ** >>> Exercise 4 (Take home): **\n",
    "Build a model using a Naive Bayes model and train it. What are the testing results?\n",
    "\n",
    "Reference: https://scikit-learn.org/stable/modules/generated/sklearn.naive_bayes.MultinomialNB.html"
   ]
  },
  {
   "cell_type": "code",
   "execution_count": 61,
   "metadata": {},
   "outputs": [],
   "source": [
    "X_train = train_tfidf\n",
    "X_test= test_tfidf\n",
    "y_train = train_df['emotion']\n",
    "y_test = test_df['emotion']"
   ]
  },
  {
   "cell_type": "code",
   "execution_count": 62,
   "metadata": {},
   "outputs": [
    {
     "name": "stdout",
     "output_type": "stream",
     "text": [
      "y_train shape: (3613,)\n"
     ]
    }
   ],
   "source": [
    "print(\"y_train shape:\", y_train.shape)"
   ]
  },
  {
   "cell_type": "code",
   "execution_count": 64,
   "metadata": {
    "scrolled": false
   },
   "outputs": [
    {
     "name": "stdout",
     "output_type": "stream",
     "text": [
      "training accuracy: 0.86\n",
      "testing accuracy: 0.76\n",
      "              precision    recall  f1-score   support\n",
      "\n",
      "       anger       0.85      0.71      0.77        84\n",
      "        fear       0.66      0.92      0.77       110\n",
      "         joy       0.86      0.75      0.80        79\n",
      "     sadness       0.85      0.61      0.71        74\n",
      "\n",
      "    accuracy                           0.76       347\n",
      "   macro avg       0.80      0.75      0.76       347\n",
      "weighted avg       0.79      0.76      0.76       347\n",
      "\n"
     ]
    }
   ],
   "source": [
    "from sklearn.naive_bayes import MultinomialNB\n",
    "clf = MultinomialNB()\n",
    "clf.fit(X_train, y_train)\n",
    "\n",
    "y_train_pred = clf.predict(X_train)\n",
    "y_test_pred = clf.predict(X_test)\n",
    "\n",
    "from sklearn.metrics import accuracy_score\n",
    "\n",
    "acc_train = accuracy_score(y_true=y_train, y_pred=y_train_pred)\n",
    "acc_test = accuracy_score(y_true=y_test, y_pred=y_test_pred)\n",
    "\n",
    "print('training accuracy: {}'.format(round(acc_train, 2)))\n",
    "print('testing accuracy: {}'.format(round(acc_test, 2)))\n",
    "\n",
    "## precision, recall, f1-score,\n",
    "from sklearn.metrics import classification_report\n",
    "\n",
    "print(classification_report(y_true=y_test, y_pred=y_test_pred))"
   ]
  },
  {
   "cell_type": "code",
   "execution_count": 67,
   "metadata": {},
   "outputs": [
    {
     "data": {
      "text/plain": [
       "<sklearn.metrics._plot.confusion_matrix.ConfusionMatrixDisplay at 0x1bd7feafcf8>"
      ]
     },
     "execution_count": 67,
     "metadata": {},
     "output_type": "execute_result"
    },
    {
     "data": {
      "image/png": "[encoded data removed]",
      "text/plain": [
       "<Figure size 432x288 with 2 Axes>"
      ]
     },
     "metadata": {
      "needs_background": "light"
     },
     "output_type": "display_data"
    }
   ],
   "source": [
    "from sklearn.metrics import plot_confusion_matrix\n",
    "import seaborn as sns\n",
    "plot_confusion_matrix(clf, X_test, y_test, cmap=sns.cubehelix_palette(as_cmap=True))"
   ]
  },
  {
   "cell_type": "markdown",
   "metadata": {},
   "source": [
    "---\n",
    "### ** >>> Exercise 5 (Take home): **¶\n",
    "How do the results from the Naive Bayes model and the Decision Tree model compare? How do you interpret these differences? Use the theoretical background covered in class to try and explain these differences."
   ]
  },
  {
   "cell_type": "markdown",
   "metadata": {},
   "source": [
    "* Naive Bayes classifer consider the class distribution p(C) in its equation, so the unbalanced data casues the model to predict \"fear\" in too-much-large amount (# of examples predicted \"fear\", Naive bayes: 154; decision tree: 107), making \"fear\" has the lowest precision (0.66).\n",
    "* Except for overpredicting \"fear\", the f1 score of other labels' prediction are greater then decision tree model. The reason may come from that decision tree would overfit to the dataset due to too deep subtree, so the generalized ability isn't good for the vanilla decision tree in this case. "
   ]
  },
  {
   "cell_type": "markdown",
   "metadata": {},
   "source": [
    "---\n",
    "### ** >>> Exercise 6 (Take home): **  \n",
    "\n",
    "Plot the Training and Validation Accuracy and Loss (different plots), just like the images below (Note: the pictures below are an example from a different model). How to interpret the graphs you got? How are they related to the concept of overfitting/underfitting covered in class?\n",
    "<table><tr>\n",
    "    <td><img src=\"pic3.png\" style=\"width: 300px;\"/> </td>\n",
    "    <td><img src=\"pic4.png\" style=\"width: 300px;\"/> </td>\n",
    "</tr></table>"
   ]
  },
  {
   "cell_type": "code",
   "execution_count": 69,
   "metadata": {},
   "outputs": [],
   "source": [
    "training_log = pd.read_csv(\"training_log.csv\")"
   ]
  },
  {
   "cell_type": "code",
   "execution_count": 72,
   "metadata": {},
   "outputs": [
    {
     "data": {
      "text/html": [
       "<div>\n",
       "<style scoped>\n",
       "    .dataframe tbody tr th:only-of-type {\n",
       "        vertical-align: middle;\n",
       "    }\n",
       "\n",
       "    .dataframe tbody tr th {\n",
       "        vertical-align: top;\n",
       "    }\n",
       "\n",
       "    .dataframe thead th {\n",
       "        text-align: right;\n",
       "    }\n",
       "</style>\n",
       "<table border=\"1\" class=\"dataframe\">\n",
       "  <thead>\n",
       "    <tr style=\"text-align: right;\">\n",
       "      <th></th>\n",
       "      <th>epoch</th>\n",
       "      <th>accuracy</th>\n",
       "      <th>loss</th>\n",
       "      <th>val_accuracy</th>\n",
       "      <th>val_loss</th>\n",
       "    </tr>\n",
       "  </thead>\n",
       "  <tbody>\n",
       "    <tr>\n",
       "      <th>0</th>\n",
       "      <td>0</td>\n",
       "      <td>0.357321</td>\n",
       "      <td>1.331441</td>\n",
       "      <td>0.403458</td>\n",
       "      <td>1.303430</td>\n",
       "    </tr>\n",
       "    <tr>\n",
       "      <th>1</th>\n",
       "      <td>1</td>\n",
       "      <td>0.631331</td>\n",
       "      <td>1.009061</td>\n",
       "      <td>0.654179</td>\n",
       "      <td>0.933611</td>\n",
       "    </tr>\n",
       "    <tr>\n",
       "      <th>2</th>\n",
       "      <td>2</td>\n",
       "      <td>0.789648</td>\n",
       "      <td>0.594773</td>\n",
       "      <td>0.703170</td>\n",
       "      <td>0.834452</td>\n",
       "    </tr>\n",
       "    <tr>\n",
       "      <th>3</th>\n",
       "      <td>3</td>\n",
       "      <td>0.846111</td>\n",
       "      <td>0.420835</td>\n",
       "      <td>0.680115</td>\n",
       "      <td>0.823708</td>\n",
       "    </tr>\n",
       "    <tr>\n",
       "      <th>4</th>\n",
       "      <td>4</td>\n",
       "      <td>0.879325</td>\n",
       "      <td>0.333459</td>\n",
       "      <td>0.662824</td>\n",
       "      <td>0.870670</td>\n",
       "    </tr>\n",
       "    <tr>\n",
       "      <th>5</th>\n",
       "      <td>5</td>\n",
       "      <td>0.907833</td>\n",
       "      <td>0.269892</td>\n",
       "      <td>0.682997</td>\n",
       "      <td>0.920399</td>\n",
       "    </tr>\n",
       "    <tr>\n",
       "      <th>6</th>\n",
       "      <td>6</td>\n",
       "      <td>0.923056</td>\n",
       "      <td>0.224140</td>\n",
       "      <td>0.657061</td>\n",
       "      <td>0.962127</td>\n",
       "    </tr>\n",
       "    <tr>\n",
       "      <th>7</th>\n",
       "      <td>7</td>\n",
       "      <td>0.941877</td>\n",
       "      <td>0.190499</td>\n",
       "      <td>0.659942</td>\n",
       "      <td>1.014630</td>\n",
       "    </tr>\n",
       "    <tr>\n",
       "      <th>8</th>\n",
       "      <td>8</td>\n",
       "      <td>0.949903</td>\n",
       "      <td>0.159279</td>\n",
       "      <td>0.651297</td>\n",
       "      <td>1.085380</td>\n",
       "    </tr>\n",
       "    <tr>\n",
       "      <th>9</th>\n",
       "      <td>9</td>\n",
       "      <td>0.962635</td>\n",
       "      <td>0.135167</td>\n",
       "      <td>0.651297</td>\n",
       "      <td>1.138142</td>\n",
       "    </tr>\n",
       "    <tr>\n",
       "      <th>10</th>\n",
       "      <td>10</td>\n",
       "      <td>0.962912</td>\n",
       "      <td>0.124946</td>\n",
       "      <td>0.654179</td>\n",
       "      <td>1.183201</td>\n",
       "    </tr>\n",
       "    <tr>\n",
       "      <th>11</th>\n",
       "      <td>11</td>\n",
       "      <td>0.965403</td>\n",
       "      <td>0.111614</td>\n",
       "      <td>0.654179</td>\n",
       "      <td>1.261847</td>\n",
       "    </tr>\n",
       "    <tr>\n",
       "      <th>12</th>\n",
       "      <td>12</td>\n",
       "      <td>0.969001</td>\n",
       "      <td>0.100718</td>\n",
       "      <td>0.651297</td>\n",
       "      <td>1.287588</td>\n",
       "    </tr>\n",
       "    <tr>\n",
       "      <th>13</th>\n",
       "      <td>13</td>\n",
       "      <td>0.972599</td>\n",
       "      <td>0.096118</td>\n",
       "      <td>0.639769</td>\n",
       "      <td>1.405376</td>\n",
       "    </tr>\n",
       "    <tr>\n",
       "      <th>14</th>\n",
       "      <td>14</td>\n",
       "      <td>0.971215</td>\n",
       "      <td>0.091004</td>\n",
       "      <td>0.648415</td>\n",
       "      <td>1.413903</td>\n",
       "    </tr>\n",
       "    <tr>\n",
       "      <th>15</th>\n",
       "      <td>15</td>\n",
       "      <td>0.973153</td>\n",
       "      <td>0.083843</td>\n",
       "      <td>0.662824</td>\n",
       "      <td>1.417384</td>\n",
       "    </tr>\n",
       "    <tr>\n",
       "      <th>16</th>\n",
       "      <td>16</td>\n",
       "      <td>0.972599</td>\n",
       "      <td>0.086142</td>\n",
       "      <td>0.639769</td>\n",
       "      <td>1.446373</td>\n",
       "    </tr>\n",
       "    <tr>\n",
       "      <th>17</th>\n",
       "      <td>17</td>\n",
       "      <td>0.976197</td>\n",
       "      <td>0.074718</td>\n",
       "      <td>0.639769</td>\n",
       "      <td>1.482919</td>\n",
       "    </tr>\n",
       "    <tr>\n",
       "      <th>18</th>\n",
       "      <td>18</td>\n",
       "      <td>0.975644</td>\n",
       "      <td>0.074697</td>\n",
       "      <td>0.651297</td>\n",
       "      <td>1.487663</td>\n",
       "    </tr>\n",
       "    <tr>\n",
       "      <th>19</th>\n",
       "      <td>19</td>\n",
       "      <td>0.975920</td>\n",
       "      <td>0.072831</td>\n",
       "      <td>0.651297</td>\n",
       "      <td>1.511972</td>\n",
       "    </tr>\n",
       "    <tr>\n",
       "      <th>20</th>\n",
       "      <td>20</td>\n",
       "      <td>0.975090</td>\n",
       "      <td>0.070093</td>\n",
       "      <td>0.648415</td>\n",
       "      <td>1.548684</td>\n",
       "    </tr>\n",
       "    <tr>\n",
       "      <th>21</th>\n",
       "      <td>21</td>\n",
       "      <td>0.976474</td>\n",
       "      <td>0.069041</td>\n",
       "      <td>0.657061</td>\n",
       "      <td>1.596164</td>\n",
       "    </tr>\n",
       "    <tr>\n",
       "      <th>22</th>\n",
       "      <td>22</td>\n",
       "      <td>0.978688</td>\n",
       "      <td>0.062642</td>\n",
       "      <td>0.662824</td>\n",
       "      <td>1.578872</td>\n",
       "    </tr>\n",
       "    <tr>\n",
       "      <th>23</th>\n",
       "      <td>23</td>\n",
       "      <td>0.979242</td>\n",
       "      <td>0.060403</td>\n",
       "      <td>0.654179</td>\n",
       "      <td>1.697666</td>\n",
       "    </tr>\n",
       "    <tr>\n",
       "      <th>24</th>\n",
       "      <td>24</td>\n",
       "      <td>0.976474</td>\n",
       "      <td>0.063021</td>\n",
       "      <td>0.639769</td>\n",
       "      <td>1.623381</td>\n",
       "    </tr>\n",
       "  </tbody>\n",
       "</table>\n",
       "</div>"
      ],
      "text/plain": [
       "    epoch  accuracy      loss  val_accuracy  val_loss\n",
       "0       0  0.357321  1.331441      0.403458  1.303430\n",
       "1       1  0.631331  1.009061      0.654179  0.933611\n",
       "2       2  0.789648  0.594773      0.703170  0.834452\n",
       "3       3  0.846111  0.420835      0.680115  0.823708\n",
       "4       4  0.879325  0.333459      0.662824  0.870670\n",
       "5       5  0.907833  0.269892      0.682997  0.920399\n",
       "6       6  0.923056  0.224140      0.657061  0.962127\n",
       "7       7  0.941877  0.190499      0.659942  1.014630\n",
       "8       8  0.949903  0.159279      0.651297  1.085380\n",
       "9       9  0.962635  0.135167      0.651297  1.138142\n",
       "10     10  0.962912  0.124946      0.654179  1.183201\n",
       "11     11  0.965403  0.111614      0.654179  1.261847\n",
       "12     12  0.969001  0.100718      0.651297  1.287588\n",
       "13     13  0.972599  0.096118      0.639769  1.405376\n",
       "14     14  0.971215  0.091004      0.648415  1.413903\n",
       "15     15  0.973153  0.083843      0.662824  1.417384\n",
       "16     16  0.972599  0.086142      0.639769  1.446373\n",
       "17     17  0.976197  0.074718      0.639769  1.482919\n",
       "18     18  0.975644  0.074697      0.651297  1.487663\n",
       "19     19  0.975920  0.072831      0.651297  1.511972\n",
       "20     20  0.975090  0.070093      0.648415  1.548684\n",
       "21     21  0.976474  0.069041      0.657061  1.596164\n",
       "22     22  0.978688  0.062642      0.662824  1.578872\n",
       "23     23  0.979242  0.060403      0.654179  1.697666\n",
       "24     24  0.976474  0.063021      0.639769  1.623381"
      ]
     },
     "execution_count": 72,
     "metadata": {},
     "output_type": "execute_result"
    }
   ],
   "source": [
    "training_log"
   ]
  },
  {
   "cell_type": "code",
   "execution_count": 83,
   "metadata": {},
   "outputs": [
    {
     "data": {
      "image/png": "[encoded data removed]",
      "text/plain": [
       "<Figure size 432x288 with 1 Axes>"
      ]
     },
     "metadata": {
      "needs_background": "light"
     },
     "output_type": "display_data"
    },
    {
     "data": {
      "image/png": "[encoded data removed]",
      "text/plain": [
       "<Figure size 432x288 with 1 Axes>"
      ]
     },
     "metadata": {
      "needs_background": "light"
     },
     "output_type": "display_data"
    }
   ],
   "source": [
    "import matplotlib.pyplot as plt\n",
    "# acc\n",
    "plt.plot(training_log.epoch, training_log.accuracy, training_log.epoch, training_log.val_accuracy)\n",
    "plt.xlabel(\"epoch\")\n",
    "plt.ylabel(\"acc\")\n",
    "plt.legend([\"training acc\", \"val_acc\"])\n",
    "plt.title(\"Training acc per epoch\")\n",
    "plt.show()\n",
    "# loss\n",
    "plt.plot(training_log.epoch, training_log.loss, training_log.epoch, training_log.val_loss)\n",
    "plt.xlabel(\"epoch\")\n",
    "plt.ylabel(\"loss\")\n",
    "plt.legend([\"training loss\", \"val_loss\"])\n",
    "plt.title(\"Training loss per epoch\")\n",
    "plt.show()"
   ]
  },
  {
   "cell_type": "markdown",
   "metadata": {},
   "source": [
    "At about epoch 2, model started to overfit on training data: \n",
    "1. While the training accuracy keeps increasing, the validation accuracy is still at the same level and even decreases a little bit.\n",
    "2. As the training loss decreases to nearly zero, the validation loss strongly increases.  <br>\n",
    "Both two phenomenons are classical in the overfitting issue because model fits too well on training set trivial details, and it loses the generalized ability on validation set.\n"
   ]
  },
  {
   "cell_type": "markdown",
   "metadata": {},
   "source": [
    "---\n",
    "### ** >>> Exercise 7 (Take home): **  \n",
    "\n",
    "Now, we have the word vectors, but our input data is a sequence of words (or say sentence). \n",
    "How can we utilize these \"word\" vectors to represent the sentence data and train our model?\n"
   ]
  },
  {
   "cell_type": "code",
   "execution_count": 85,
   "metadata": {},
   "outputs": [
    {
     "name": "stdout",
     "output_type": "stream",
     "text": [
      "load ok\n"
     ]
    },
    {
     "data": {
      "text/plain": [
       "[('glad', 0.7408890128135681),\n",
       " ('pleased', 0.6632171273231506),\n",
       " ('ecstatic', 0.6626912355422974),\n",
       " ('overjoyed', 0.6599286794662476),\n",
       " ('thrilled', 0.6514049768447876),\n",
       " ('satisfied', 0.6437950134277344),\n",
       " ('proud', 0.636042058467865),\n",
       " ('delighted', 0.627237856388092),\n",
       " ('disappointed', 0.6269949674606323),\n",
       " ('excited', 0.6247666478157043)]"
      ]
     },
     "execution_count": 85,
     "metadata": {},
     "output_type": "execute_result"
    }
   ],
   "source": [
    "from gensim.models import KeyedVectors\n",
    "\n",
    "## Note: this model is very huge, this will take some time ...\n",
    "model_path = \"GoogleNews-vectors-negative300.bin\"\n",
    "w2v_google_model = KeyedVectors.load_word2vec_format(model_path, binary=True)\n",
    "print('load ok')\n",
    "\n",
    "w2v_google_model.most_similar('happy', topn=10)"
   ]
  },
  {
   "cell_type": "code",
   "execution_count": 131,
   "metadata": {},
   "outputs": [
    {
     "data": {
      "text/plain": [
       "(3613, 300)"
      ]
     },
     "execution_count": 131,
     "metadata": {},
     "output_type": "execute_result"
    }
   ],
   "source": [
    "train_vec.shape"
   ]
  },
  {
   "cell_type": "code",
   "execution_count": 212,
   "metadata": {},
   "outputs": [
    {
     "name": "stderr",
     "output_type": "stream",
     "text": [
      "[nltk_data] Downloading package stopwords to C:\\Users\\Lin Guan\n",
      "[nltk_data]     Ting\\AppData\\Roaming\\nltk_data...\n",
      "[nltk_data]   Package stopwords is already up-to-date!\n"
     ]
    }
   ],
   "source": [
    "from nltk.corpus import stopwords\n",
    "import re\n",
    "\n",
    "nltk.download('stopwords')\n",
    "stop = stopwords.words('english')\n",
    "\n",
    "def tokenizer(text):\n",
    "    porter = PorterStemmer()\n",
    "    return [ w for w in re.split('\\s+', text.strip()) \\\n",
    "            if w not in stop]\n"
   ]
  },
  {
   "cell_type": "code",
   "execution_count": 213,
   "metadata": {},
   "outputs": [],
   "source": [
    "train_df['unigrams'] = train_df['text'].apply(tokenizer)\n",
    "test_df['unigrams'] = test_df['text'].apply(tokenizer)"
   ]
  },
  {
   "cell_type": "code",
   "execution_count": 214,
   "metadata": {},
   "outputs": [
    {
     "data": {
      "text/html": [
       "<div>\n",
       "<style scoped>\n",
       "    .dataframe tbody tr th:only-of-type {\n",
       "        vertical-align: middle;\n",
       "    }\n",
       "\n",
       "    .dataframe tbody tr th {\n",
       "        vertical-align: top;\n",
       "    }\n",
       "\n",
       "    .dataframe thead th {\n",
       "        text-align: right;\n",
       "    }\n",
       "</style>\n",
       "<table border=\"1\" class=\"dataframe\">\n",
       "  <thead>\n",
       "    <tr style=\"text-align: right;\">\n",
       "      <th></th>\n",
       "      <th>id</th>\n",
       "      <th>text</th>\n",
       "      <th>emotion</th>\n",
       "      <th>intensity</th>\n",
       "      <th>unigrams</th>\n",
       "    </tr>\n",
       "  </thead>\n",
       "  <tbody>\n",
       "    <tr>\n",
       "      <th>453</th>\n",
       "      <td>10453</td>\n",
       "      <td>Get to work and there's a fire drill. #fire  #...</td>\n",
       "      <td>anger</td>\n",
       "      <td>0.479</td>\n",
       "      <td>[Get, work, there's, fire, drill., #fire, #out...</td>\n",
       "    </tr>\n",
       "    <tr>\n",
       "      <th>1346</th>\n",
       "      <td>20489</td>\n",
       "      <td>Damnnit! Gonna be 1400 pts shy on Chiefs Rewar...</td>\n",
       "      <td>fear</td>\n",
       "      <td>0.521</td>\n",
       "      <td>[Damnnit!, Gonna, 1400, pts, shy, Chiefs, Rewa...</td>\n",
       "    </tr>\n",
       "    <tr>\n",
       "      <th>177</th>\n",
       "      <td>10177</td>\n",
       "      <td>@sebbyD27850 both are nonsensical. If there's ...</td>\n",
       "      <td>anger</td>\n",
       "      <td>0.690</td>\n",
       "      <td>[@sebbyD27850, nonsensical., If, there's, inju...</td>\n",
       "    </tr>\n",
       "    <tr>\n",
       "      <th>690</th>\n",
       "      <td>10690</td>\n",
       "      <td>-- haired man strides close and watches as the...</td>\n",
       "      <td>anger</td>\n",
       "      <td>0.322</td>\n",
       "      <td>[--, haired, man, strides, close, watches, Maj...</td>\n",
       "    </tr>\n",
       "    <tr>\n",
       "      <th>1317</th>\n",
       "      <td>20460</td>\n",
       "      <td>@Relaqss I know she did horrible shit, but it ...</td>\n",
       "      <td>fear</td>\n",
       "      <td>0.542</td>\n",
       "      <td>[@Relaqss, I, know, horrible, shit,, make, any...</td>\n",
       "    </tr>\n",
       "    <tr>\n",
       "      <th>...</th>\n",
       "      <td>...</td>\n",
       "      <td>...</td>\n",
       "      <td>...</td>\n",
       "      <td>...</td>\n",
       "      <td>...</td>\n",
       "    </tr>\n",
       "    <tr>\n",
       "      <th>1405</th>\n",
       "      <td>20548</td>\n",
       "      <td>@hotpatooties more like quickie divorce #awful</td>\n",
       "      <td>fear</td>\n",
       "      <td>0.500</td>\n",
       "      <td>[@hotpatooties, like, quickie, divorce, #awful]</td>\n",
       "    </tr>\n",
       "    <tr>\n",
       "      <th>1389</th>\n",
       "      <td>20532</td>\n",
       "      <td>@Zak_Atif two congressional hearings in USA st...</td>\n",
       "      <td>fear</td>\n",
       "      <td>0.500</td>\n",
       "      <td>[@Zak_Atif, two, congressional, hearings, USA,...</td>\n",
       "    </tr>\n",
       "    <tr>\n",
       "      <th>2622</th>\n",
       "      <td>30618</td>\n",
       "      <td>@suavecitamay sparkling water is nice you know...</td>\n",
       "      <td>joy</td>\n",
       "      <td>0.340</td>\n",
       "      <td>[@suavecitamay, sparkling, water, nice, know, ...</td>\n",
       "    </tr>\n",
       "    <tr>\n",
       "      <th>780</th>\n",
       "      <td>10780</td>\n",
       "      <td>@leener00 @libbyfloyd1 @G_Eazy my snap is andr...</td>\n",
       "      <td>anger</td>\n",
       "      <td>0.271</td>\n",
       "      <td>[@leener00, @libbyfloyd1, @G_Eazy, snap, andri...</td>\n",
       "    </tr>\n",
       "    <tr>\n",
       "      <th>1313</th>\n",
       "      <td>20456</td>\n",
       "      <td>If I was friends with me I'd hate me SO MUCH w...</td>\n",
       "      <td>fear</td>\n",
       "      <td>0.542</td>\n",
       "      <td>[If, I, friends, I'd, hate, SO, MUCH, amount, ...</td>\n",
       "    </tr>\n",
       "  </tbody>\n",
       "</table>\n",
       "<p>3613 rows × 5 columns</p>\n",
       "</div>"
      ],
      "text/plain": [
       "         id                                               text emotion  \\\n",
       "453   10453  Get to work and there's a fire drill. #fire  #...   anger   \n",
       "1346  20489  Damnnit! Gonna be 1400 pts shy on Chiefs Rewar...    fear   \n",
       "177   10177  @sebbyD27850 both are nonsensical. If there's ...   anger   \n",
       "690   10690  -- haired man strides close and watches as the...   anger   \n",
       "1317  20460  @Relaqss I know she did horrible shit, but it ...    fear   \n",
       "...     ...                                                ...     ...   \n",
       "1405  20548     @hotpatooties more like quickie divorce #awful    fear   \n",
       "1389  20532  @Zak_Atif two congressional hearings in USA st...    fear   \n",
       "2622  30618  @suavecitamay sparkling water is nice you know...     joy   \n",
       "780   10780  @leener00 @libbyfloyd1 @G_Eazy my snap is andr...   anger   \n",
       "1313  20456  If I was friends with me I'd hate me SO MUCH w...    fear   \n",
       "\n",
       "      intensity                                           unigrams  \n",
       "453       0.479  [Get, work, there's, fire, drill., #fire, #out...  \n",
       "1346      0.521  [Damnnit!, Gonna, 1400, pts, shy, Chiefs, Rewa...  \n",
       "177       0.690  [@sebbyD27850, nonsensical., If, there's, inju...  \n",
       "690       0.322  [--, haired, man, strides, close, watches, Maj...  \n",
       "1317      0.542  [@Relaqss, I, know, horrible, shit,, make, any...  \n",
       "...         ...                                                ...  \n",
       "1405      0.500    [@hotpatooties, like, quickie, divorce, #awful]  \n",
       "1389      0.500  [@Zak_Atif, two, congressional, hearings, USA,...  \n",
       "2622      0.340  [@suavecitamay, sparkling, water, nice, know, ...  \n",
       "780       0.271  [@leener00, @libbyfloyd1, @G_Eazy, snap, andri...  \n",
       "1313      0.542  [If, I, friends, I'd, hate, SO, MUCH, amount, ...  \n",
       "\n",
       "[3613 rows x 5 columns]"
      ]
     },
     "execution_count": 214,
     "metadata": {},
     "output_type": "execute_result"
    }
   ],
   "source": [
    "train_df"
   ]
  },
  {
   "cell_type": "code",
   "execution_count": 224,
   "metadata": {},
   "outputs": [],
   "source": [
    "import numpy as np\n",
    "def sentence2vec(unigram):\n",
    "    count = 0\n",
    "    vec = np.zeros((300))\n",
    "    for i in range(0, len(unigram)):\n",
    "        try:\n",
    "            vec += w2v_google_model[unigram[i]]\n",
    "            count += 1\n",
    "        except KeyError:\n",
    "            pass\n",
    "    vec /= count\n",
    "    return vec\n",
    "            "
   ]
  },
  {
   "cell_type": "code",
   "execution_count": 225,
   "metadata": {},
   "outputs": [],
   "source": [
    "train_sent_vec = train_df[\"unigrams\"].apply(sentence2vec)\n",
    "test_sent_vec = test_df[\"unigrams\"].apply(sentence2vec)"
   ]
  },
  {
   "cell_type": "code",
   "execution_count": 226,
   "metadata": {},
   "outputs": [
    {
     "data": {
      "text/plain": [
       "453     [0.1112060546875, -0.025634765625, -0.05688476...\n",
       "1346    [0.092559814453125, 0.015066146850585938, 0.04...\n",
       "177     [0.09180365668402778, 0.042521158854166664, 0....\n",
       "690     [0.03590809215198864, 0.10406979647549716, 0.0...\n",
       "1317    [-0.017525809151785716, -0.002811976841517857,...\n",
       "                              ...                        \n",
       "1405    [-0.014322916666666666, 0.042154947916666664, ...\n",
       "1389    [-0.030691964285714284, 0.07531956263950892, 0...\n",
       "2622    [0.033447265625, 0.085845947265625, 0.07097516...\n",
       "780     [-0.0286865234375, -0.013671875, -0.34765625, ...\n",
       "1313    [0.0099609375, 0.012872314453125, 0.1408386230...\n",
       "Name: unigrams, Length: 3613, dtype: object"
      ]
     },
     "execution_count": 226,
     "metadata": {},
     "output_type": "execute_result"
    }
   ],
   "source": [
    "train_sent_vec"
   ]
  },
  {
   "cell_type": "code",
   "execution_count": 227,
   "metadata": {},
   "outputs": [],
   "source": [
    "train_vec = train_sent_vec.apply(pd.Series).fillna(0)\n",
    "test_vec = test_sent_vec.apply(pd.Series).fillna(0)"
   ]
  },
  {
   "cell_type": "code",
   "execution_count": 228,
   "metadata": {},
   "outputs": [
    {
     "data": {
      "text/html": [
       "<div>\n",
       "<style scoped>\n",
       "    .dataframe tbody tr th:only-of-type {\n",
       "        vertical-align: middle;\n",
       "    }\n",
       "\n",
       "    .dataframe tbody tr th {\n",
       "        vertical-align: top;\n",
       "    }\n",
       "\n",
       "    .dataframe thead th {\n",
       "        text-align: right;\n",
       "    }\n",
       "</style>\n",
       "<table border=\"1\" class=\"dataframe\">\n",
       "  <thead>\n",
       "    <tr style=\"text-align: right;\">\n",
       "      <th></th>\n",
       "      <th>0</th>\n",
       "      <th>1</th>\n",
       "      <th>2</th>\n",
       "      <th>3</th>\n",
       "      <th>4</th>\n",
       "      <th>5</th>\n",
       "      <th>6</th>\n",
       "      <th>7</th>\n",
       "      <th>8</th>\n",
       "      <th>9</th>\n",
       "      <th>...</th>\n",
       "      <th>290</th>\n",
       "      <th>291</th>\n",
       "      <th>292</th>\n",
       "      <th>293</th>\n",
       "      <th>294</th>\n",
       "      <th>295</th>\n",
       "      <th>296</th>\n",
       "      <th>297</th>\n",
       "      <th>298</th>\n",
       "      <th>299</th>\n",
       "    </tr>\n",
       "  </thead>\n",
       "  <tbody>\n",
       "    <tr>\n",
       "      <th>453</th>\n",
       "      <td>0.111206</td>\n",
       "      <td>-0.025635</td>\n",
       "      <td>-0.056885</td>\n",
       "      <td>0.091187</td>\n",
       "      <td>0.142090</td>\n",
       "      <td>0.007263</td>\n",
       "      <td>0.016724</td>\n",
       "      <td>-0.004883</td>\n",
       "      <td>-0.084854</td>\n",
       "      <td>0.177979</td>\n",
       "      <td>...</td>\n",
       "      <td>-0.022217</td>\n",
       "      <td>-0.017494</td>\n",
       "      <td>-0.101624</td>\n",
       "      <td>0.083786</td>\n",
       "      <td>0.045410</td>\n",
       "      <td>-0.085632</td>\n",
       "      <td>-0.027222</td>\n",
       "      <td>-0.129318</td>\n",
       "      <td>0.089844</td>\n",
       "      <td>0.039833</td>\n",
       "    </tr>\n",
       "    <tr>\n",
       "      <th>1346</th>\n",
       "      <td>0.092560</td>\n",
       "      <td>0.015066</td>\n",
       "      <td>0.040253</td>\n",
       "      <td>0.107403</td>\n",
       "      <td>0.064240</td>\n",
       "      <td>0.048859</td>\n",
       "      <td>-0.131500</td>\n",
       "      <td>-0.106674</td>\n",
       "      <td>0.133026</td>\n",
       "      <td>0.098831</td>\n",
       "      <td>...</td>\n",
       "      <td>0.018097</td>\n",
       "      <td>0.056007</td>\n",
       "      <td>-0.152924</td>\n",
       "      <td>-0.080032</td>\n",
       "      <td>-0.005508</td>\n",
       "      <td>-0.064819</td>\n",
       "      <td>0.079407</td>\n",
       "      <td>-0.079315</td>\n",
       "      <td>-0.039825</td>\n",
       "      <td>0.067642</td>\n",
       "    </tr>\n",
       "    <tr>\n",
       "      <th>177</th>\n",
       "      <td>0.091804</td>\n",
       "      <td>0.042521</td>\n",
       "      <td>0.048414</td>\n",
       "      <td>0.093686</td>\n",
       "      <td>-0.084635</td>\n",
       "      <td>0.013418</td>\n",
       "      <td>0.060927</td>\n",
       "      <td>-0.017497</td>\n",
       "      <td>0.071425</td>\n",
       "      <td>0.127767</td>\n",
       "      <td>...</td>\n",
       "      <td>0.034405</td>\n",
       "      <td>0.055840</td>\n",
       "      <td>-0.123400</td>\n",
       "      <td>0.037435</td>\n",
       "      <td>-0.089261</td>\n",
       "      <td>-0.028829</td>\n",
       "      <td>0.006565</td>\n",
       "      <td>-0.107069</td>\n",
       "      <td>0.076340</td>\n",
       "      <td>-0.006022</td>\n",
       "    </tr>\n",
       "    <tr>\n",
       "      <th>690</th>\n",
       "      <td>0.035908</td>\n",
       "      <td>0.104070</td>\n",
       "      <td>0.024458</td>\n",
       "      <td>0.000591</td>\n",
       "      <td>-0.142911</td>\n",
       "      <td>-0.057595</td>\n",
       "      <td>-0.026145</td>\n",
       "      <td>-0.126143</td>\n",
       "      <td>0.122492</td>\n",
       "      <td>0.143454</td>\n",
       "      <td>...</td>\n",
       "      <td>-0.078447</td>\n",
       "      <td>-0.040222</td>\n",
       "      <td>-0.164384</td>\n",
       "      <td>0.008994</td>\n",
       "      <td>-0.049771</td>\n",
       "      <td>-0.015647</td>\n",
       "      <td>0.071001</td>\n",
       "      <td>0.027322</td>\n",
       "      <td>-0.064792</td>\n",
       "      <td>0.118131</td>\n",
       "    </tr>\n",
       "    <tr>\n",
       "      <th>1317</th>\n",
       "      <td>-0.017526</td>\n",
       "      <td>-0.002812</td>\n",
       "      <td>0.057722</td>\n",
       "      <td>0.109436</td>\n",
       "      <td>-0.039934</td>\n",
       "      <td>0.070513</td>\n",
       "      <td>0.089739</td>\n",
       "      <td>-0.068987</td>\n",
       "      <td>0.124128</td>\n",
       "      <td>0.043056</td>\n",
       "      <td>...</td>\n",
       "      <td>-0.040623</td>\n",
       "      <td>0.118094</td>\n",
       "      <td>-0.113700</td>\n",
       "      <td>0.036534</td>\n",
       "      <td>-0.074184</td>\n",
       "      <td>-0.054844</td>\n",
       "      <td>0.037127</td>\n",
       "      <td>-0.100891</td>\n",
       "      <td>0.037493</td>\n",
       "      <td>-0.039394</td>\n",
       "    </tr>\n",
       "    <tr>\n",
       "      <th>...</th>\n",
       "      <td>...</td>\n",
       "      <td>...</td>\n",
       "      <td>...</td>\n",
       "      <td>...</td>\n",
       "      <td>...</td>\n",
       "      <td>...</td>\n",
       "      <td>...</td>\n",
       "      <td>...</td>\n",
       "      <td>...</td>\n",
       "      <td>...</td>\n",
       "      <td>...</td>\n",
       "      <td>...</td>\n",
       "      <td>...</td>\n",
       "      <td>...</td>\n",
       "      <td>...</td>\n",
       "      <td>...</td>\n",
       "      <td>...</td>\n",
       "      <td>...</td>\n",
       "      <td>...</td>\n",
       "      <td>...</td>\n",
       "      <td>...</td>\n",
       "    </tr>\n",
       "    <tr>\n",
       "      <th>1405</th>\n",
       "      <td>-0.014323</td>\n",
       "      <td>0.042155</td>\n",
       "      <td>-0.373388</td>\n",
       "      <td>0.127279</td>\n",
       "      <td>0.011739</td>\n",
       "      <td>0.159261</td>\n",
       "      <td>0.173910</td>\n",
       "      <td>-0.151713</td>\n",
       "      <td>0.126628</td>\n",
       "      <td>0.075643</td>\n",
       "      <td>...</td>\n",
       "      <td>0.137255</td>\n",
       "      <td>0.060954</td>\n",
       "      <td>-0.052246</td>\n",
       "      <td>0.051351</td>\n",
       "      <td>0.030396</td>\n",
       "      <td>0.069743</td>\n",
       "      <td>-0.051758</td>\n",
       "      <td>0.090983</td>\n",
       "      <td>-0.155273</td>\n",
       "      <td>0.130046</td>\n",
       "    </tr>\n",
       "    <tr>\n",
       "      <th>1389</th>\n",
       "      <td>-0.030692</td>\n",
       "      <td>0.075320</td>\n",
       "      <td>0.060702</td>\n",
       "      <td>0.051296</td>\n",
       "      <td>-0.141144</td>\n",
       "      <td>-0.082716</td>\n",
       "      <td>-0.003411</td>\n",
       "      <td>-0.003331</td>\n",
       "      <td>0.076213</td>\n",
       "      <td>-0.016288</td>\n",
       "      <td>...</td>\n",
       "      <td>-0.033831</td>\n",
       "      <td>-0.018114</td>\n",
       "      <td>-0.046906</td>\n",
       "      <td>0.017687</td>\n",
       "      <td>-0.048490</td>\n",
       "      <td>-0.030443</td>\n",
       "      <td>-0.069701</td>\n",
       "      <td>0.014927</td>\n",
       "      <td>0.000854</td>\n",
       "      <td>0.040224</td>\n",
       "    </tr>\n",
       "    <tr>\n",
       "      <th>2622</th>\n",
       "      <td>0.033447</td>\n",
       "      <td>0.085846</td>\n",
       "      <td>0.070975</td>\n",
       "      <td>0.054757</td>\n",
       "      <td>0.005995</td>\n",
       "      <td>-0.088335</td>\n",
       "      <td>0.081011</td>\n",
       "      <td>-0.070975</td>\n",
       "      <td>-0.009138</td>\n",
       "      <td>0.081194</td>\n",
       "      <td>...</td>\n",
       "      <td>-0.023647</td>\n",
       "      <td>-0.010672</td>\n",
       "      <td>-0.152414</td>\n",
       "      <td>-0.005197</td>\n",
       "      <td>-0.111677</td>\n",
       "      <td>-0.045201</td>\n",
       "      <td>0.013794</td>\n",
       "      <td>-0.082171</td>\n",
       "      <td>0.054041</td>\n",
       "      <td>-0.047067</td>\n",
       "    </tr>\n",
       "    <tr>\n",
       "      <th>780</th>\n",
       "      <td>-0.028687</td>\n",
       "      <td>-0.013672</td>\n",
       "      <td>-0.347656</td>\n",
       "      <td>-0.084473</td>\n",
       "      <td>-0.127930</td>\n",
       "      <td>-0.165039</td>\n",
       "      <td>0.069824</td>\n",
       "      <td>-0.205078</td>\n",
       "      <td>0.184570</td>\n",
       "      <td>0.116699</td>\n",
       "      <td>...</td>\n",
       "      <td>-0.059326</td>\n",
       "      <td>0.304688</td>\n",
       "      <td>-0.221680</td>\n",
       "      <td>0.193359</td>\n",
       "      <td>0.155273</td>\n",
       "      <td>0.143555</td>\n",
       "      <td>-0.091797</td>\n",
       "      <td>-0.232422</td>\n",
       "      <td>-0.054688</td>\n",
       "      <td>-0.006134</td>\n",
       "    </tr>\n",
       "    <tr>\n",
       "      <th>1313</th>\n",
       "      <td>0.009961</td>\n",
       "      <td>0.012872</td>\n",
       "      <td>0.140839</td>\n",
       "      <td>0.201221</td>\n",
       "      <td>-0.054425</td>\n",
       "      <td>0.113812</td>\n",
       "      <td>-0.028870</td>\n",
       "      <td>-0.022726</td>\n",
       "      <td>0.075848</td>\n",
       "      <td>0.107458</td>\n",
       "      <td>...</td>\n",
       "      <td>-0.128542</td>\n",
       "      <td>0.131763</td>\n",
       "      <td>-0.148494</td>\n",
       "      <td>-0.016138</td>\n",
       "      <td>-0.077417</td>\n",
       "      <td>-0.156628</td>\n",
       "      <td>0.022644</td>\n",
       "      <td>-0.063794</td>\n",
       "      <td>-0.037930</td>\n",
       "      <td>0.012372</td>\n",
       "    </tr>\n",
       "  </tbody>\n",
       "</table>\n",
       "<p>3613 rows × 300 columns</p>\n",
       "</div>"
      ],
      "text/plain": [
       "           0         1         2         3         4         5         6    \\\n",
       "453   0.111206 -0.025635 -0.056885  0.091187  0.142090  0.007263  0.016724   \n",
       "1346  0.092560  0.015066  0.040253  0.107403  0.064240  0.048859 -0.131500   \n",
       "177   0.091804  0.042521  0.048414  0.093686 -0.084635  0.013418  0.060927   \n",
       "690   0.035908  0.104070  0.024458  0.000591 -0.142911 -0.057595 -0.026145   \n",
       "1317 -0.017526 -0.002812  0.057722  0.109436 -0.039934  0.070513  0.089739   \n",
       "...        ...       ...       ...       ...       ...       ...       ...   \n",
       "1405 -0.014323  0.042155 -0.373388  0.127279  0.011739  0.159261  0.173910   \n",
       "1389 -0.030692  0.075320  0.060702  0.051296 -0.141144 -0.082716 -0.003411   \n",
       "2622  0.033447  0.085846  0.070975  0.054757  0.005995 -0.088335  0.081011   \n",
       "780  -0.028687 -0.013672 -0.347656 -0.084473 -0.127930 -0.165039  0.069824   \n",
       "1313  0.009961  0.012872  0.140839  0.201221 -0.054425  0.113812 -0.028870   \n",
       "\n",
       "           7         8         9    ...       290       291       292  \\\n",
       "453  -0.004883 -0.084854  0.177979  ... -0.022217 -0.017494 -0.101624   \n",
       "1346 -0.106674  0.133026  0.098831  ...  0.018097  0.056007 -0.152924   \n",
       "177  -0.017497  0.071425  0.127767  ...  0.034405  0.055840 -0.123400   \n",
       "690  -0.126143  0.122492  0.143454  ... -0.078447 -0.040222 -0.164384   \n",
       "1317 -0.068987  0.124128  0.043056  ... -0.040623  0.118094 -0.113700   \n",
       "...        ...       ...       ...  ...       ...       ...       ...   \n",
       "1405 -0.151713  0.126628  0.075643  ...  0.137255  0.060954 -0.052246   \n",
       "1389 -0.003331  0.076213 -0.016288  ... -0.033831 -0.018114 -0.046906   \n",
       "2622 -0.070975 -0.009138  0.081194  ... -0.023647 -0.010672 -0.152414   \n",
       "780  -0.205078  0.184570  0.116699  ... -0.059326  0.304688 -0.221680   \n",
       "1313 -0.022726  0.075848  0.107458  ... -0.128542  0.131763 -0.148494   \n",
       "\n",
       "           293       294       295       296       297       298       299  \n",
       "453   0.083786  0.045410 -0.085632 -0.027222 -0.129318  0.089844  0.039833  \n",
       "1346 -0.080032 -0.005508 -0.064819  0.079407 -0.079315 -0.039825  0.067642  \n",
       "177   0.037435 -0.089261 -0.028829  0.006565 -0.107069  0.076340 -0.006022  \n",
       "690   0.008994 -0.049771 -0.015647  0.071001  0.027322 -0.064792  0.118131  \n",
       "1317  0.036534 -0.074184 -0.054844  0.037127 -0.100891  0.037493 -0.039394  \n",
       "...        ...       ...       ...       ...       ...       ...       ...  \n",
       "1405  0.051351  0.030396  0.069743 -0.051758  0.090983 -0.155273  0.130046  \n",
       "1389  0.017687 -0.048490 -0.030443 -0.069701  0.014927  0.000854  0.040224  \n",
       "2622 -0.005197 -0.111677 -0.045201  0.013794 -0.082171  0.054041 -0.047067  \n",
       "780   0.193359  0.155273  0.143555 -0.091797 -0.232422 -0.054688 -0.006134  \n",
       "1313 -0.016138 -0.077417 -0.156628  0.022644 -0.063794 -0.037930  0.012372  \n",
       "\n",
       "[3613 rows x 300 columns]"
      ]
     },
     "execution_count": 228,
     "metadata": {},
     "output_type": "execute_result"
    }
   ],
   "source": [
    "train_vec"
   ]
  },
  {
   "cell_type": "code",
   "execution_count": 229,
   "metadata": {},
   "outputs": [
    {
     "data": {
      "text/plain": [
       "(3613, 300)"
      ]
     },
     "execution_count": 229,
     "metadata": {},
     "output_type": "execute_result"
    }
   ],
   "source": [
    "train_vec.shape"
   ]
  },
  {
   "cell_type": "code",
   "execution_count": 230,
   "metadata": {},
   "outputs": [
    {
     "data": {
      "text/plain": [
       "(347, 300)"
      ]
     },
     "execution_count": 230,
     "metadata": {},
     "output_type": "execute_result"
    }
   ],
   "source": [
    "test_vec.shape"
   ]
  },
  {
   "cell_type": "code",
   "execution_count": 231,
   "metadata": {},
   "outputs": [
    {
     "name": "stdout",
     "output_type": "stream",
     "text": [
      "training accuracy: 0.68\n",
      "testing accuracy: 0.54\n",
      "              precision    recall  f1-score   support\n",
      "\n",
      "       anger       0.51      0.44      0.47        84\n",
      "        fear       0.53      0.64      0.58       110\n",
      "         joy       0.58      0.58      0.58        79\n",
      "     sadness       0.52      0.45      0.48        74\n",
      "\n",
      "    accuracy                           0.54       347\n",
      "   macro avg       0.53      0.53      0.53       347\n",
      "weighted avg       0.53      0.54      0.53       347\n",
      "\n"
     ]
    },
    {
     "name": "stderr",
     "output_type": "stream",
     "text": [
      "C:\\Users\\Lin Guan Ting\\Anaconda3\\envs\\DLenv\\lib\\site-packages\\sklearn\\linear_model\\_logistic.py:764: ConvergenceWarning: lbfgs failed to converge (status=1):\n",
      "STOP: TOTAL NO. of ITERATIONS REACHED LIMIT.\n",
      "\n",
      "Increase the number of iterations (max_iter) or scale the data as shown in:\n",
      "    https://scikit-learn.org/stable/modules/preprocessing.html\n",
      "Please also refer to the documentation for alternative solver options:\n",
      "    https://scikit-learn.org/stable/modules/linear_model.html#logistic-regression\n",
      "  extra_warning_msg=_LOGISTIC_SOLVER_CONVERGENCE_MSG)\n"
     ]
    }
   ],
   "source": [
    "from sklearn.linear_model import LogisticRegression\n",
    "clf = LogisticRegression()\n",
    "clf.fit(train_vec, y_train)\n",
    "\n",
    "y_train_pred = clf.predict(train_vec)\n",
    "y_test_pred = clf.predict(test_vec)\n",
    "\n",
    "acc_train = accuracy_score(y_true=y_train, y_pred=y_train_pred)\n",
    "acc_test = accuracy_score(y_true=y_test, y_pred=y_test_pred)\n",
    "\n",
    "print('training accuracy: {}'.format(round(acc_train, 2)))\n",
    "print('testing accuracy: {}'.format(round(acc_test, 2)))\n",
    "\n",
    "## precision, recall, f1-score,\n",
    "print(classification_report(y_true=y_test, y_pred=y_test_pred))"
   ]
  },
  {
   "cell_type": "markdown",
   "metadata": {},
   "source": [
    "* We can simply do average to all the words in the sentence to get sentence features.\n",
    "* However, I think this approach couldn't perform well because when averaging those words' vectors, we somehow remove the information in word vectors, thus this sentences' features can't even outperform the features from BOW or tfidf. "
   ]
  },
  {
   "cell_type": "markdown",
   "metadata": {},
   "source": [
    "---\n",
    "### ** >>> Exercise 8 (Take home): **  \n",
    "\n",
    "Generate a t-SNE visualization to show the 15 words most related to the words \"angry\", \"happy\", \"sad\", \"fear\" (60 words total)."
   ]
  },
  {
   "cell_type": "code",
   "execution_count": null,
   "metadata": {},
   "outputs": [],
   "source": []
  },
  {
   "cell_type": "code",
   "execution_count": null,
   "metadata": {},
   "outputs": [],
   "source": []
  }
 ],
 "metadata": {
  "kernelspec": {
   "display_name": "Python 3",
   "language": "python",
   "name": "python3"
  },
  "language_info": {
   "codemirror_mode": {
    "name": "ipython",
    "version": 3
   },
   "file_extension": ".py",
   "mimetype": "text/x-python",
   "name": "python",
   "nbconvert_exporter": "python",
   "pygments_lexer": "ipython3",
   "version": "3.6.12"
  },
  "varInspector": {
   "cols": {
    "lenName": 16,
    "lenType": 16,
    "lenVar": 40
   },
   "kernels_config": {
    "python": {
     "delete_cmd_postfix": "",
     "delete_cmd_prefix": "del ",
     "library": "var_list.py",
     "varRefreshCmd": "print(var_dic_list())"
    },
    "r": {
     "delete_cmd_postfix": ") ",
     "delete_cmd_prefix": "rm(",
     "library": "var_list.r",
     "varRefreshCmd": "cat(var_dic_list()) "
    }
   },
   "types_to_exclude": [
    "module",
    "function",
    "builtin_function_or_method",
    "instance",
    "_Feature"
   ],
   "window_display": false
  }
 },
 "nbformat": 4,
 "nbformat_minor": 2
}
